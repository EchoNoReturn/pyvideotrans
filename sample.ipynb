{
 "cells": [
  {
   "cell_type": "markdown",
   "metadata": {},
   "source": [
    "# 简易开启测试网页方法\n",
    "\n",
    "## 1. venv 创建虚拟环境\n",
    "\n",
    "> 也可以使用 Jupter Notebook \n",
    "\n",
    "```shell\n",
    "python -m venv .venv # 注意这里的 .venv 是自定义的虚拟环境名称\n",
    "\n",
    "# macos/linux \n",
    "source .venv/bin/activate\n",
    "\n",
    "# windows\n",
    ".venv/Scripts/activate\n",
    "```\n",
    "\n",
    "## 2. 安装依赖\n",
    "```bash\n",
    "pip install -r requirements.txt\n",
    "\n",
    "# 不确定是否有就补一下\n",
    "pip install gradio\n",
    "```\n"
   ]
  },
  {
   "cell_type": "markdown",
   "metadata": {},
   "source": [
    "## 3. 启动服务\n",
    "启动后输出内容中有对应的网址，直接打开就好\n"
   ]
  },
  {
   "cell_type": "code",
   "execution_count": null,
   "metadata": {},
   "outputs": [],
   "source": [
    "# 启动服务\n",
    "!python api.py"
   ]
  },
  {
   "cell_type": "code",
   "execution_count": null,
   "metadata": {},
   "outputs": [],
   "source": [
    "# 启动 web 网页\n",
    "!python test_web/app.py"
   ]
  }
 ],
 "metadata": {
  "kernelspec": {
   "display_name": ".venv",
   "language": "python",
   "name": "python3"
  },
  "language_info": {
   "name": "python",
   "version": "3.12.6"
  }
 },
 "nbformat": 4,
 "nbformat_minor": 2
}
